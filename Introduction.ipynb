{
 "cells": [
  {
   "cell_type": "markdown",
   "metadata": {},
   "source": [
    "# Introduction/Business Problem"
   ]
  },
  {
   "cell_type": "markdown",
   "metadata": {},
   "source": [
    "Imagine there is a **travel provider**, who has special offer in his portfolio: You can book a trip to New York and attend a home game of the New York Yankees. So, the customers can enjoy a Yankee match and in the rest of the time (usually a few days) they are free to explore New York City. <br>\n",
    "The travel provider has access to various lodgings in different neighborhoods. It is important that the Yankees stadium is easy to reach from the lodging with regard to the high traffic volume before Yankees matches. From his experience, he knows that the boroughs Manhattan and Bronx are optimal in this particular case. <br>\n",
    "Now, the provider doesn't want to just randomly pick neighborhoods in Manhattan or Bronx in order to prevent customer dissatisfaction. At the same time he doesn't want to present customers a long list of neighborhoods, making them choose without any information about the neighborhoods. <br>\n",
    "The provider has an idea: He hires a data scientist and gives him the task to cluster the neighborhoods in Manhattan and Bronx with regard to similar venues in a specific radius of each neighborhood. In this way, he can **propose a specific set of neighborhoods to his customers based on their personal preferences**. As soon as the customer chooses a cluster, the provider can check which lodgings are available in the neighborhoods of that cluster. "
   ]
  },
  {
   "cell_type": "code",
   "execution_count": null,
   "metadata": {},
   "outputs": [],
   "source": []
  }
 ],
 "metadata": {
  "kernelspec": {
   "display_name": "Python [default]",
   "language": "python",
   "name": "python3"
  },
  "language_info": {
   "codemirror_mode": {
    "name": "ipython",
    "version": 3
   },
   "file_extension": ".py",
   "mimetype": "text/x-python",
   "name": "python",
   "nbconvert_exporter": "python",
   "pygments_lexer": "ipython3",
   "version": "3.6.5"
  }
 },
 "nbformat": 4,
 "nbformat_minor": 2
}
