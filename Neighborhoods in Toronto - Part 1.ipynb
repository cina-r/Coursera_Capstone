{
    "nbformat_minor": 1, 
    "cells": [
        {
            "execution_count": 1, 
            "cell_type": "code", 
            "metadata": {}, 
            "outputs": [], 
            "source": "from bs4 import BeautifulSoup\nimport requests\nimport pandas as pd\nfrom io import StringIO"
        }, 
        {
            "source": "## Get the text from the Wiki page and parse it with lxml", 
            "cell_type": "markdown", 
            "metadata": {}
        }, 
        {
            "execution_count": 12, 
            "cell_type": "code", 
            "metadata": {}, 
            "outputs": [], 
            "source": "source = requests.get('https://en.wikipedia.org/wiki/List_of_postal_codes_of_Canada:_M').text\nsoup = BeautifulSoup(source, 'lxml')"
        }, 
        {
            "source": "## Extract the table content ", 
            "cell_type": "markdown", 
            "metadata": {}
        }, 
        {
            "execution_count": 3, 
            "cell_type": "code", 
            "metadata": {}, 
            "outputs": [
                {
                    "output_type": "stream", 
                    "name": "stdout", 
                    "text": "\n\nPostcode\nBorough\nNeighbourhood\n\n\nM1A\nNot assigned\nNot assigned\n\n\nM2A\nNot assigned\nNot assigned\n\n\nM3A\nNorth York\nParkwoods\n\n\nM4A\nNorth York\nVictoria Village\n\n\nM5A\nDowntown Toronto\nHarbourfront\n\n\nM5A\nDowntown Toronto\nRegent Park\n\n\nM6A\nNorth York\nLawrence Heights\n\n\nM6A\nNorth York\nLawrence Manor\n\n\nM7A\nQueen's Park\nNot assigned\n\n\nM8A\nNot assigned\nNot assigned\n\n\nM9A\nEtobicoke\nIslington Avenue\n\n\nM1B\nScarborough\nRouge\n\n\nM1B\nScarborough\nMalvern\n\n\nM2B\nNot assigned\nNot assigned\n\n\nM3B\nNorth York\nDon Mills North\n\n\nM4B\nEast York\nWoodbine Gardens\n\n\nM4B\nEast York\nParkview Hill\n\n\nM5B\nDowntown Toronto\nRyerson\n\n\nM5B\nDowntown Toronto\nGarden District\n\n\nM6B\nNorth York\nGlencairn\n\n\nM7B\nNot assigned\nNot assigned\n\n\nM8B\nNot assigned\nNot assigned\n\n\nM9B\nEtobicoke\nCloverdale\n\n\nM9B\nEtobicoke\nIslington\n\n\nM9B\nEtobicoke\nMartin Grove\n\n\nM9B\nEtobicoke\nPrincess Gardens\n\n\nM9B\nEtobicoke\nWest Deane Park\n\n\nM1C\nScarborough\nHighland Creek\n\n\nM1C\nScarborough\nRouge Hill\n\n\nM1C\nScarborough\nPort Union\n\n\nM2C\nNot assigned\nNot assigned\n\n\nM3C\nNorth York\nFlemingdon Park\n\n\nM3C\nNorth York\nDon Mills South\n\n\nM4C\nEast York\nWoodbine Heights\n\n\nM5C\nDowntown Toronto\nSt. James Town\n\n\nM6C\nYork\nHumewood-Cedarvale\n\n\nM7C\nNot assigned\nNot assigned\n\n\nM8C\nNot assigned\nNot assigned\n\n\nM9C\nEtobicoke\nBloordale Gardens\n\n\nM9C\nEtobicoke\nEringate\n\n\nM9C\nEtobicoke\nMarkland Wood\n\n\nM9C\nEtobicoke\nOld Burnhamthorpe\n\n\nM1E\nScarborough\nGuildwood\n\n\nM1E\nScarborough\nMorningside\n\n\nM1E\nScarborough\nWest Hill\n\n\nM2E\nNot assigned\nNot assigned\n\n\nM3E\nNot assigned\nNot assigned\n\n\nM4E\nEast Toronto\nThe Beaches\n\n\nM5E\nDowntown Toronto\nBerczy Park\n\n\nM6E\nYork\nCaledonia-Fairbanks\n\n\nM7E\nNot assigned\nNot assigned\n\n\nM8E\nNot assigned\nNot assigned\n\n\nM9E\nNot assigned\nNot assigned\n\n\nM1G\nScarborough\nWoburn\n\n\nM2G\nNot assigned\nNot assigned\n\n\nM3G\nNot assigned\nNot assigned\n\n\nM4G\nEast York\nLeaside\n\n\nM5G\nDowntown Toronto\nCentral Bay Street\n\n\nM6G\nDowntown Toronto\nChristie\n\n\nM7G\nNot assigned\nNot assigned\n\n\nM8G\nNot assigned\nNot assigned\n\n\nM9G\nNot assigned\nNot assigned\n\n\nM1H\nScarborough\nCedarbrae\n\n\nM2H\nNorth York\nHillcrest Village\n\n\nM3H\nNorth York\nBathurst Manor\n\n\nM3H\nNorth York\nDownsview North\n\n\nM3H\nNorth York\nWilson Heights\n\n\nM4H\nEast York\nThorncliffe Park\n\n\nM5H\nDowntown Toronto\nAdelaide\n\n\nM5H\nDowntown Toronto\nKing\n\n\nM5H\nDowntown Toronto\nRichmond\n\n\nM6H\nWest Toronto\nDovercourt Village\n\n\nM6H\nWest Toronto\nDufferin\n\n\nM7H\nNot assigned\nNot assigned\n\n\nM8H\nNot assigned\nNot assigned\n\n\nM9H\nNot assigned\nNot assigned\n\n\nM1J\nScarborough\nScarborough Village\n\n\nM2J\nNorth York\nFairview\n\n\nM2J\nNorth York\nHenry Farm\n\n\nM2J\nNorth York\nOriole\n\n\nM3J\nNorth York\nNorthwood Park\n\n\nM3J\nNorth York\nYork University\n\n\nM4J\nEast York\nEast Toronto\n\n\nM5J\nDowntown Toronto\nHarbourfront East\n\n\nM5J\nDowntown Toronto\nToronto Islands\n\n\nM5J\nDowntown Toronto\nUnion Station\n\n\nM6J\nWest Toronto\nLittle Portugal\n\n\nM6J\nWest Toronto\nTrinity\n\n\nM7J\nNot assigned\nNot assigned\n\n\nM8J\nNot assigned\nNot assigned\n\n\nM9J\nNot assigned\nNot assigned\n\n\nM1K\nScarborough\nEast Birchmount Park\n\n\nM1K\nScarborough\nIonview\n\n\nM1K\nScarborough\nKennedy Park\n\n\nM2K\nNorth York\nBayview Village\n\n\nM3K\nNorth York\nCFB Toronto\n\n\nM3K\nNorth York\nDownsview East\n\n\nM4K\nEast Toronto\nThe Danforth West\n\n\nM4K\nEast Toronto\nRiverdale\n\n\nM5K\nDowntown Toronto\nDesign Exchange\n\n\nM5K\nDowntown Toronto\nToronto Dominion Centre\n\n\nM6K\nWest Toronto\nBrockton\n\n\nM6K\nWest Toronto\nExhibition Place\n\n\nM6K\nWest Toronto\nParkdale Village\n\n\nM7K\nNot assigned\nNot assigned\n\n\nM8K\nNot assigned\nNot assigned\n\n\nM9K\nNot assigned\nNot assigned\n\n\nM1L\nScarborough\nClairlea\n\n\nM1L\nScarborough\nGolden Mile\n\n\nM1L\nScarborough\nOakridge\n\n\nM2L\nNorth York\nSilver Hills\n\n\nM2L\nNorth York\nYork Mills\n\n\nM3L\nNorth York\nDownsview West\n\n\nM4L\nEast Toronto\nThe Beaches West\n\n\nM4L\nEast Toronto\nIndia Bazaar\n\n\nM5L\nDowntown Toronto\nCommerce Court\n\n\nM5L\nDowntown Toronto\nVictoria Hotel\n\n\nM6L\nNorth York\nMaple Leaf Park\n\n\nM6L\nNorth York\nNorth Park\n\n\nM6L\nNorth York\nUpwood Park\n\n\nM7L\nNot assigned\nNot assigned\n\n\nM8L\nNot assigned\nNot assigned\n\n\nM9L\nNorth York\nHumber Summit\n\n\nM1M\nScarborough\nCliffcrest\n\n\nM1M\nScarborough\nCliffside\n\n\nM1M\nScarborough\nScarborough Village West\n\n\nM2M\nNorth York\nNewtonbrook\n\n\nM2M\nNorth York\nWillowdale\n\n\nM3M\nNorth York\nDownsview Central\n\n\nM4M\nEast Toronto\nStudio District\n\n\nM5M\nNorth York\nBedford Park\n\n\nM5M\nNorth York\nLawrence Manor East\n\n\nM6M\nYork\nDel Ray\n\n\nM6M\nYork\nKeelesdale\n\n\nM6M\nYork\nMount Dennis\n\n\nM6M\nYork\nSilverthorn\n\n\nM7M\nNot assigned\nNot assigned\n\n\nM8M\nNot assigned\nNot assigned\n\n\nM9M\nNorth York\nEmery\n\n\nM9M\nNorth York\nHumberlea\n\n\nM1N\nScarborough\nBirch Cliff\n\n\nM1N\nScarborough\nCliffside West\n\n\nM2N\nNorth York\nWillowdale South\n\n\nM3N\nNorth York\nDownsview Northwest\n\n\nM4N\nCentral Toronto\nLawrence Park\n\n\nM5N\nCentral Toronto\nRoselawn\n\n\nM6N\nYork\nThe Junction North\n\n\nM6N\nYork\nRunnymede\n\n\nM7N\nNot assigned\nNot assigned\n\n\nM8N\nNot assigned\nNot assigned\n\n\nM9N\nYork\nWeston\n\n\nM1P\nScarborough\nDorset Park\n\n\nM1P\nScarborough\nScarborough Town Centre\n\n\nM1P\nScarborough\nWexford Heights\n\n\nM2P\nNorth York\nYork Mills West\n\n\nM3P\nNot assigned\nNot assigned\n\n\nM4P\nCentral Toronto\nDavisville North\n\n\nM5P\nCentral Toronto\nForest Hill North\n\n\nM5P\nCentral Toronto\nForest Hill West\n\n\nM6P\nWest Toronto\nHigh Park\n\n\nM6P\nWest Toronto\nThe Junction South\n\n\nM7P\nNot assigned\nNot assigned\n\n\nM8P\nNot assigned\nNot assigned\n\n\nM9P\nEtobicoke\nWestmount\n\n\nM1R\nScarborough\nMaryvale\n\n\nM1R\nScarborough\nWexford\n\n\nM2R\nNorth York\nWillowdale West\n\n\nM3R\nNot assigned\nNot assigned\n\n\nM4R\nCentral Toronto\nNorth Toronto West\n\n\nM5R\nCentral Toronto\nThe Annex\n\n\nM5R\nCentral Toronto\nNorth Midtown\n\n\nM5R\nCentral Toronto\nYorkville\n\n\nM6R\nWest Toronto\nParkdale\n\n\nM6R\nWest Toronto\nRoncesvalles\n\n\nM7R\nMississauga\nCanada Post Gateway Processing Centre\n\n\nM8R\nNot assigned\nNot assigned\n\n\nM9R\nEtobicoke\nKingsview Village\n\n\nM9R\nEtobicoke\nMartin Grove Gardens\n\n\nM9R\nEtobicoke\nRichview Gardens\n\n\nM9R\nEtobicoke\nSt. Phillips\n\n\nM1S\nScarborough\nAgincourt\n\n\nM2S\nNot assigned\nNot assigned\n\n\nM3S\nNot assigned\nNot assigned\n\n\nM4S\nCentral Toronto\nDavisville\n\n\nM5S\nDowntown Toronto\nHarbord\n\n\nM5S\nDowntown Toronto\nUniversity of Toronto\n\n\nM6S\nWest Toronto\nRunnymede\n\n\nM6S\nWest Toronto\nSwansea\n\n\nM7S\nNot assigned\nNot assigned\n\n\nM8S\nNot assigned\nNot assigned\n\n\nM9S\nNot assigned\nNot assigned\n\n\nM1T\nScarborough\nClarks Corners\n\n\nM1T\nScarborough\nSullivan\n\n\nM1T\nScarborough\nTam O'Shanter\n\n\nM2T\nNot assigned\nNot assigned\n\n\nM3T\nNot assigned\nNot assigned\n\n\nM4T\nCentral Toronto\nMoore Park\n\n\nM4T\nCentral Toronto\nSummerhill East\n\n\nM5T\nDowntown Toronto\nChinatown\n\n\nM5T\nDowntown Toronto\nGrange Park\n\n\nM5T\nDowntown Toronto\nKensington Market\n\n\nM6T\nNot assigned\nNot assigned\n\n\nM7T\nNot assigned\nNot assigned\n\n\nM8T\nNot assigned\nNot assigned\n\n\nM9T\nNot assigned\nNot assigned\n\n\nM1V\nScarborough\nAgincourt North\n\n\nM1V\nScarborough\nL'Amoreaux East\n\n\nM1V\nScarborough\nMilliken\n\n\nM1V\nScarborough\nSteeles East\n\n\nM2V\nNot assigned\nNot assigned\n\n\nM3V\nNot assigned\nNot assigned\n\n\nM4V\nCentral Toronto\nDeer Park\n\n\nM4V\nCentral Toronto\nForest Hill SE\n\n\nM4V\nCentral Toronto\nRathnelly\n\n\nM4V\nCentral Toronto\nSouth Hill\n\n\nM4V\nCentral Toronto\nSummerhill West\n\n\nM5V\nDowntown Toronto\nCN Tower\n\n\nM5V\nDowntown Toronto\nBathurst Quay\n\n\nM5V\nDowntown Toronto\nIsland airport\n\n\nM5V\nDowntown Toronto\nHarbourfront West\n\n\nM5V\nDowntown Toronto\nKing and Spadina\n\n\nM5V\nDowntown Toronto\nRailway Lands\n\n\nM5V\nDowntown Toronto\nSouth Niagara\n\n\nM6V\nNot assigned\nNot assigned\n\n\nM7V\nNot assigned\nNot assigned\n\n\nM8V\nEtobicoke\nHumber Bay Shores\n\n\nM8V\nEtobicoke\nMimico South\n\n\nM8V\nEtobicoke\nNew Toronto\n\n\nM9V\nEtobicoke\nAlbion Gardens\n\n\nM9V\nEtobicoke\nBeaumond Heights\n\n\nM9V\nEtobicoke\nHumbergate\n\n\nM9V\nEtobicoke\nJamestown\n\n\nM9V\nEtobicoke\nMount Olive\n\n\nM9V\nEtobicoke\nSilverstone\n\n\nM9V\nEtobicoke\nSouth Steeles\n\n\nM9V\nEtobicoke\nThistletown\n\n\nM1W\nScarborough\nL'Amoreaux West\n\n\nM1W\nScarborough\nSteeles West\n\n\nM2W\nNot assigned\nNot assigned\n\n\nM3W\nNot assigned\nNot assigned\n\n\nM4W\nDowntown Toronto\nRosedale\n\n\nM5W\nDowntown Toronto\nStn A PO Boxes 25 The Esplanade\n\n\nM6W\nNot assigned\nNot assigned\n\n\nM7W\nNot assigned\nNot assigned\n\n\nM8W\nEtobicoke\nAlderwood\n\n\nM8W\nEtobicoke\nLong Branch\n\n\nM9W\nEtobicoke\nNorthwest\n\n\nM1X\nScarborough\nUpper Rouge\n\n\nM2X\nNot assigned\nNot assigned\n\n\nM3X\nNot assigned\nNot assigned\n\n\nM4X\nDowntown Toronto\nCabbagetown\n\n\nM4X\nDowntown Toronto\nSt. James Town\n\n\nM5X\nDowntown Toronto\nFirst Canadian Place\n\n\nM5X\nDowntown Toronto\nUnderground city\n\n\nM6X\nNot assigned\nNot assigned\n\n\nM7X\nNot assigned\nNot assigned\n\n\nM8X\nEtobicoke\nThe Kingsway\n\n\nM8X\nEtobicoke\nMontgomery Road\n\n\nM8X\nEtobicoke\nOld Mill North\n\n\nM9X\nNot assigned\nNot assigned\n\n\nM1Y\nNot assigned\nNot assigned\n\n\nM2Y\nNot assigned\nNot assigned\n\n\nM3Y\nNot assigned\nNot assigned\n\n\nM4Y\nDowntown Toronto\nChurch and Wellesley\n\n\nM5Y\nNot assigned\nNot assigned\n\n\nM6Y\nNot assigned\nNot assigned\n\n\nM7Y\nEast Toronto\nBusiness reply mail Processing Centre969 Eastern\n\n\nM8Y\nEtobicoke\nHumber Bay\n\n\nM8Y\nEtobicoke\nKing's Mill Park\n\n\nM8Y\nEtobicoke\nKingsway Park South East\n\n\nM8Y\nEtobicoke\nMimico NE\n\n\nM8Y\nEtobicoke\nOld Mill South\n\n\nM8Y\nEtobicoke\nThe Queensway East\n\n\nM8Y\nEtobicoke\nRoyal York South East\n\n\nM8Y\nEtobicoke\nSunnylea\n\n\nM9Y\nNot assigned\nNot assigned\n\n\nM1Z\nNot assigned\nNot assigned\n\n\nM2Z\nNot assigned\nNot assigned\n\n\nM3Z\nNot assigned\nNot assigned\n\n\nM4Z\nNot assigned\nNot assigned\n\n\nM5Z\nNot assigned\nNot assigned\n\n\nM6Z\nNot assigned\nNot assigned\n\n\nM7Z\nNot assigned\nNot assigned\n\n\nM8Z\nEtobicoke\nKingsway Park South West\n\n\nM8Z\nEtobicoke\nMimico NW\n\n\nM8Z\nEtobicoke\nThe Queensway West\n\n\nM8Z\nEtobicoke\nRoyal York South West\n\n\nM8Z\nEtobicoke\nSouth of Bloor\n\n\nM9Z\nNot assigned\nNot assigned\n\n\n"
                }
            ], 
            "source": "table_content = soup.find('table').text\nprint(table_content)"
        }, 
        {
            "source": "## Split the table content by newlines in order to obtain a list of words. Then, remove empty elements from the list.", 
            "cell_type": "markdown", 
            "metadata": {}
        }, 
        {
            "execution_count": 4, 
            "cell_type": "code", 
            "metadata": {}, 
            "outputs": [
                {
                    "output_type": "stream", 
                    "name": "stdout", 
                    "text": "['Postcode', 'Borough', 'Neighbourhood', 'M1A', 'Not assigned', 'Not assigned', 'M2A', 'Not assigned', 'Not assigned', 'M3A', 'North York', 'Parkwoods', 'M4A', 'North York', 'Victoria Village', 'M5A', 'Downtown Toronto', 'Harbourfront', 'M5A', 'Downtown Toronto']\n"
                }
            ], 
            "source": "#split\ntable_list = table_content.split('\\n')\n\n#remove empty elements\ntable_list = list(filter(None, table_list))\n\n#print first 20 elements:\nprint(table_list[:20])"
        }, 
        {
            "source": "## Seperate Labels and Records", 
            "cell_type": "markdown", 
            "metadata": {}
        }, 
        {
            "execution_count": 5, 
            "cell_type": "code", 
            "metadata": {}, 
            "outputs": [], 
            "source": "labels = ['PostalCode', 'Borough', 'Neighborhood']\nrecords = table_list[3:]"
        }, 
        {
            "execution_count": 6, 
            "cell_type": "code", 
            "metadata": {}, 
            "outputs": [
                {
                    "execution_count": 6, 
                    "metadata": {}, 
                    "data": {
                        "text/plain": "[('M1A', 'Not assigned', 'Not assigned'),\n ('M2A', 'Not assigned', 'Not assigned'),\n ('M3A', 'North York', 'Parkwoods'),\n ('M4A', 'North York', 'Victoria Village'),\n ('M5A', 'Downtown Toronto', 'Harbourfront'),\n ('M5A', 'Downtown Toronto', 'Regent Park'),\n ('M6A', 'North York', 'Lawrence Heights'),\n ('M6A', 'North York', 'Lawrence Manor'),\n ('M7A', \"Queen's Park\", 'Not assigned'),\n ('M8A', 'Not assigned', 'Not assigned'),\n ('M9A', 'Etobicoke', 'Islington Avenue'),\n ('M1B', 'Scarborough', 'Rouge'),\n ('M1B', 'Scarborough', 'Malvern'),\n ('M2B', 'Not assigned', 'Not assigned'),\n ('M3B', 'North York', 'Don Mills North'),\n ('M4B', 'East York', 'Woodbine Gardens'),\n ('M4B', 'East York', 'Parkview Hill'),\n ('M5B', 'Downtown Toronto', 'Ryerson'),\n ('M5B', 'Downtown Toronto', 'Garden District'),\n ('M6B', 'North York', 'Glencairn'),\n ('M7B', 'Not assigned', 'Not assigned'),\n ('M8B', 'Not assigned', 'Not assigned'),\n ('M9B', 'Etobicoke', 'Cloverdale'),\n ('M9B', 'Etobicoke', 'Islington'),\n ('M9B', 'Etobicoke', 'Martin Grove'),\n ('M9B', 'Etobicoke', 'Princess Gardens'),\n ('M9B', 'Etobicoke', 'West Deane Park'),\n ('M1C', 'Scarborough', 'Highland Creek'),\n ('M1C', 'Scarborough', 'Rouge Hill'),\n ('M1C', 'Scarborough', 'Port Union'),\n ('M2C', 'Not assigned', 'Not assigned'),\n ('M3C', 'North York', 'Flemingdon Park'),\n ('M3C', 'North York', 'Don Mills South'),\n ('M4C', 'East York', 'Woodbine Heights'),\n ('M5C', 'Downtown Toronto', 'St. James Town'),\n ('M6C', 'York', 'Humewood-Cedarvale'),\n ('M7C', 'Not assigned', 'Not assigned'),\n ('M8C', 'Not assigned', 'Not assigned'),\n ('M9C', 'Etobicoke', 'Bloordale Gardens'),\n ('M9C', 'Etobicoke', 'Eringate'),\n ('M9C', 'Etobicoke', 'Markland Wood'),\n ('M9C', 'Etobicoke', 'Old Burnhamthorpe'),\n ('M1E', 'Scarborough', 'Guildwood'),\n ('M1E', 'Scarborough', 'Morningside'),\n ('M1E', 'Scarborough', 'West Hill'),\n ('M2E', 'Not assigned', 'Not assigned'),\n ('M3E', 'Not assigned', 'Not assigned'),\n ('M4E', 'East Toronto', 'The Beaches'),\n ('M5E', 'Downtown Toronto', 'Berczy Park'),\n ('M6E', 'York', 'Caledonia-Fairbanks'),\n ('M7E', 'Not assigned', 'Not assigned'),\n ('M8E', 'Not assigned', 'Not assigned'),\n ('M9E', 'Not assigned', 'Not assigned'),\n ('M1G', 'Scarborough', 'Woburn'),\n ('M2G', 'Not assigned', 'Not assigned'),\n ('M3G', 'Not assigned', 'Not assigned'),\n ('M4G', 'East York', 'Leaside'),\n ('M5G', 'Downtown Toronto', 'Central Bay Street'),\n ('M6G', 'Downtown Toronto', 'Christie'),\n ('M7G', 'Not assigned', 'Not assigned'),\n ('M8G', 'Not assigned', 'Not assigned'),\n ('M9G', 'Not assigned', 'Not assigned'),\n ('M1H', 'Scarborough', 'Cedarbrae'),\n ('M2H', 'North York', 'Hillcrest Village'),\n ('M3H', 'North York', 'Bathurst Manor'),\n ('M3H', 'North York', 'Downsview North'),\n ('M3H', 'North York', 'Wilson Heights'),\n ('M4H', 'East York', 'Thorncliffe Park'),\n ('M5H', 'Downtown Toronto', 'Adelaide'),\n ('M5H', 'Downtown Toronto', 'King'),\n ('M5H', 'Downtown Toronto', 'Richmond'),\n ('M6H', 'West Toronto', 'Dovercourt Village'),\n ('M6H', 'West Toronto', 'Dufferin'),\n ('M7H', 'Not assigned', 'Not assigned'),\n ('M8H', 'Not assigned', 'Not assigned'),\n ('M9H', 'Not assigned', 'Not assigned'),\n ('M1J', 'Scarborough', 'Scarborough Village'),\n ('M2J', 'North York', 'Fairview'),\n ('M2J', 'North York', 'Henry Farm'),\n ('M2J', 'North York', 'Oriole'),\n ('M3J', 'North York', 'Northwood Park'),\n ('M3J', 'North York', 'York University'),\n ('M4J', 'East York', 'East Toronto'),\n ('M5J', 'Downtown Toronto', 'Harbourfront East'),\n ('M5J', 'Downtown Toronto', 'Toronto Islands'),\n ('M5J', 'Downtown Toronto', 'Union Station'),\n ('M6J', 'West Toronto', 'Little Portugal'),\n ('M6J', 'West Toronto', 'Trinity'),\n ('M7J', 'Not assigned', 'Not assigned'),\n ('M8J', 'Not assigned', 'Not assigned'),\n ('M9J', 'Not assigned', 'Not assigned'),\n ('M1K', 'Scarborough', 'East Birchmount Park'),\n ('M1K', 'Scarborough', 'Ionview'),\n ('M1K', 'Scarborough', 'Kennedy Park'),\n ('M2K', 'North York', 'Bayview Village'),\n ('M3K', 'North York', 'CFB Toronto'),\n ('M3K', 'North York', 'Downsview East'),\n ('M4K', 'East Toronto', 'The Danforth West'),\n ('M4K', 'East Toronto', 'Riverdale'),\n ('M5K', 'Downtown Toronto', 'Design Exchange'),\n ('M5K', 'Downtown Toronto', 'Toronto Dominion Centre'),\n ('M6K', 'West Toronto', 'Brockton'),\n ('M6K', 'West Toronto', 'Exhibition Place'),\n ('M6K', 'West Toronto', 'Parkdale Village'),\n ('M7K', 'Not assigned', 'Not assigned'),\n ('M8K', 'Not assigned', 'Not assigned'),\n ('M9K', 'Not assigned', 'Not assigned'),\n ('M1L', 'Scarborough', 'Clairlea'),\n ('M1L', 'Scarborough', 'Golden Mile'),\n ('M1L', 'Scarborough', 'Oakridge'),\n ('M2L', 'North York', 'Silver Hills'),\n ('M2L', 'North York', 'York Mills'),\n ('M3L', 'North York', 'Downsview West'),\n ('M4L', 'East Toronto', 'The Beaches West'),\n ('M4L', 'East Toronto', 'India Bazaar'),\n ('M5L', 'Downtown Toronto', 'Commerce Court'),\n ('M5L', 'Downtown Toronto', 'Victoria Hotel'),\n ('M6L', 'North York', 'Maple Leaf Park'),\n ('M6L', 'North York', 'North Park'),\n ('M6L', 'North York', 'Upwood Park'),\n ('M7L', 'Not assigned', 'Not assigned'),\n ('M8L', 'Not assigned', 'Not assigned'),\n ('M9L', 'North York', 'Humber Summit'),\n ('M1M', 'Scarborough', 'Cliffcrest'),\n ('M1M', 'Scarborough', 'Cliffside'),\n ('M1M', 'Scarborough', 'Scarborough Village West'),\n ('M2M', 'North York', 'Newtonbrook'),\n ('M2M', 'North York', 'Willowdale'),\n ('M3M', 'North York', 'Downsview Central'),\n ('M4M', 'East Toronto', 'Studio District'),\n ('M5M', 'North York', 'Bedford Park'),\n ('M5M', 'North York', 'Lawrence Manor East'),\n ('M6M', 'York', 'Del Ray'),\n ('M6M', 'York', 'Keelesdale'),\n ('M6M', 'York', 'Mount Dennis'),\n ('M6M', 'York', 'Silverthorn'),\n ('M7M', 'Not assigned', 'Not assigned'),\n ('M8M', 'Not assigned', 'Not assigned'),\n ('M9M', 'North York', 'Emery'),\n ('M9M', 'North York', 'Humberlea'),\n ('M1N', 'Scarborough', 'Birch Cliff'),\n ('M1N', 'Scarborough', 'Cliffside West'),\n ('M2N', 'North York', 'Willowdale South'),\n ('M3N', 'North York', 'Downsview Northwest'),\n ('M4N', 'Central Toronto', 'Lawrence Park'),\n ('M5N', 'Central Toronto', 'Roselawn'),\n ('M6N', 'York', 'The Junction North'),\n ('M6N', 'York', 'Runnymede'),\n ('M7N', 'Not assigned', 'Not assigned'),\n ('M8N', 'Not assigned', 'Not assigned'),\n ('M9N', 'York', 'Weston'),\n ('M1P', 'Scarborough', 'Dorset Park'),\n ('M1P', 'Scarborough', 'Scarborough Town Centre'),\n ('M1P', 'Scarborough', 'Wexford Heights'),\n ('M2P', 'North York', 'York Mills West'),\n ('M3P', 'Not assigned', 'Not assigned'),\n ('M4P', 'Central Toronto', 'Davisville North'),\n ('M5P', 'Central Toronto', 'Forest Hill North'),\n ('M5P', 'Central Toronto', 'Forest Hill West'),\n ('M6P', 'West Toronto', 'High Park'),\n ('M6P', 'West Toronto', 'The Junction South'),\n ('M7P', 'Not assigned', 'Not assigned'),\n ('M8P', 'Not assigned', 'Not assigned'),\n ('M9P', 'Etobicoke', 'Westmount'),\n ('M1R', 'Scarborough', 'Maryvale'),\n ('M1R', 'Scarborough', 'Wexford'),\n ('M2R', 'North York', 'Willowdale West'),\n ('M3R', 'Not assigned', 'Not assigned'),\n ('M4R', 'Central Toronto', 'North Toronto West'),\n ('M5R', 'Central Toronto', 'The Annex'),\n ('M5R', 'Central Toronto', 'North Midtown'),\n ('M5R', 'Central Toronto', 'Yorkville'),\n ('M6R', 'West Toronto', 'Parkdale'),\n ('M6R', 'West Toronto', 'Roncesvalles'),\n ('M7R', 'Mississauga', 'Canada Post Gateway Processing Centre'),\n ('M8R', 'Not assigned', 'Not assigned'),\n ('M9R', 'Etobicoke', 'Kingsview Village'),\n ('M9R', 'Etobicoke', 'Martin Grove Gardens'),\n ('M9R', 'Etobicoke', 'Richview Gardens'),\n ('M9R', 'Etobicoke', 'St. Phillips'),\n ('M1S', 'Scarborough', 'Agincourt'),\n ('M2S', 'Not assigned', 'Not assigned'),\n ('M3S', 'Not assigned', 'Not assigned'),\n ('M4S', 'Central Toronto', 'Davisville'),\n ('M5S', 'Downtown Toronto', 'Harbord'),\n ('M5S', 'Downtown Toronto', 'University of Toronto'),\n ('M6S', 'West Toronto', 'Runnymede'),\n ('M6S', 'West Toronto', 'Swansea'),\n ('M7S', 'Not assigned', 'Not assigned'),\n ('M8S', 'Not assigned', 'Not assigned'),\n ('M9S', 'Not assigned', 'Not assigned'),\n ('M1T', 'Scarborough', 'Clarks Corners'),\n ('M1T', 'Scarborough', 'Sullivan'),\n ('M1T', 'Scarborough', \"Tam O'Shanter\"),\n ('M2T', 'Not assigned', 'Not assigned'),\n ('M3T', 'Not assigned', 'Not assigned'),\n ('M4T', 'Central Toronto', 'Moore Park'),\n ('M4T', 'Central Toronto', 'Summerhill East'),\n ('M5T', 'Downtown Toronto', 'Chinatown'),\n ('M5T', 'Downtown Toronto', 'Grange Park'),\n ('M5T', 'Downtown Toronto', 'Kensington Market'),\n ('M6T', 'Not assigned', 'Not assigned'),\n ('M7T', 'Not assigned', 'Not assigned'),\n ('M8T', 'Not assigned', 'Not assigned'),\n ('M9T', 'Not assigned', 'Not assigned'),\n ('M1V', 'Scarborough', 'Agincourt North'),\n ('M1V', 'Scarborough', \"L'Amoreaux East\"),\n ('M1V', 'Scarborough', 'Milliken'),\n ('M1V', 'Scarborough', 'Steeles East'),\n ('M2V', 'Not assigned', 'Not assigned'),\n ('M3V', 'Not assigned', 'Not assigned'),\n ('M4V', 'Central Toronto', 'Deer Park'),\n ('M4V', 'Central Toronto', 'Forest Hill SE'),\n ('M4V', 'Central Toronto', 'Rathnelly'),\n ('M4V', 'Central Toronto', 'South Hill'),\n ('M4V', 'Central Toronto', 'Summerhill West'),\n ('M5V', 'Downtown Toronto', 'CN Tower'),\n ('M5V', 'Downtown Toronto', 'Bathurst Quay'),\n ('M5V', 'Downtown Toronto', 'Island airport'),\n ('M5V', 'Downtown Toronto', 'Harbourfront West'),\n ('M5V', 'Downtown Toronto', 'King and Spadina'),\n ('M5V', 'Downtown Toronto', 'Railway Lands'),\n ('M5V', 'Downtown Toronto', 'South Niagara'),\n ('M6V', 'Not assigned', 'Not assigned'),\n ('M7V', 'Not assigned', 'Not assigned'),\n ('M8V', 'Etobicoke', 'Humber Bay Shores'),\n ('M8V', 'Etobicoke', 'Mimico South'),\n ('M8V', 'Etobicoke', 'New Toronto'),\n ('M9V', 'Etobicoke', 'Albion Gardens'),\n ('M9V', 'Etobicoke', 'Beaumond Heights'),\n ('M9V', 'Etobicoke', 'Humbergate'),\n ('M9V', 'Etobicoke', 'Jamestown'),\n ('M9V', 'Etobicoke', 'Mount Olive'),\n ('M9V', 'Etobicoke', 'Silverstone'),\n ('M9V', 'Etobicoke', 'South Steeles'),\n ('M9V', 'Etobicoke', 'Thistletown'),\n ('M1W', 'Scarborough', \"L'Amoreaux West\"),\n ('M1W', 'Scarborough', 'Steeles West'),\n ('M2W', 'Not assigned', 'Not assigned'),\n ('M3W', 'Not assigned', 'Not assigned'),\n ('M4W', 'Downtown Toronto', 'Rosedale'),\n ('M5W', 'Downtown Toronto', 'Stn A PO Boxes 25 The Esplanade'),\n ('M6W', 'Not assigned', 'Not assigned'),\n ('M7W', 'Not assigned', 'Not assigned'),\n ('M8W', 'Etobicoke', 'Alderwood'),\n ('M8W', 'Etobicoke', 'Long Branch'),\n ('M9W', 'Etobicoke', 'Northwest'),\n ('M1X', 'Scarborough', 'Upper Rouge'),\n ('M2X', 'Not assigned', 'Not assigned'),\n ('M3X', 'Not assigned', 'Not assigned'),\n ('M4X', 'Downtown Toronto', 'Cabbagetown'),\n ('M4X', 'Downtown Toronto', 'St. James Town'),\n ('M5X', 'Downtown Toronto', 'First Canadian Place'),\n ('M5X', 'Downtown Toronto', 'Underground city'),\n ('M6X', 'Not assigned', 'Not assigned'),\n ('M7X', 'Not assigned', 'Not assigned'),\n ('M8X', 'Etobicoke', 'The Kingsway'),\n ('M8X', 'Etobicoke', 'Montgomery Road'),\n ('M8X', 'Etobicoke', 'Old Mill North'),\n ('M9X', 'Not assigned', 'Not assigned'),\n ('M1Y', 'Not assigned', 'Not assigned'),\n ('M2Y', 'Not assigned', 'Not assigned'),\n ('M3Y', 'Not assigned', 'Not assigned'),\n ('M4Y', 'Downtown Toronto', 'Church and Wellesley'),\n ('M5Y', 'Not assigned', 'Not assigned'),\n ('M6Y', 'Not assigned', 'Not assigned'),\n ('M7Y', 'East Toronto', 'Business reply mail Processing Centre969 Eastern'),\n ('M8Y', 'Etobicoke', 'Humber Bay'),\n ('M8Y', 'Etobicoke', \"King's Mill Park\"),\n ('M8Y', 'Etobicoke', 'Kingsway Park South East'),\n ('M8Y', 'Etobicoke', 'Mimico NE'),\n ('M8Y', 'Etobicoke', 'Old Mill South'),\n ('M8Y', 'Etobicoke', 'The Queensway East'),\n ('M8Y', 'Etobicoke', 'Royal York South East'),\n ('M8Y', 'Etobicoke', 'Sunnylea'),\n ('M9Y', 'Not assigned', 'Not assigned'),\n ('M1Z', 'Not assigned', 'Not assigned'),\n ('M2Z', 'Not assigned', 'Not assigned'),\n ('M3Z', 'Not assigned', 'Not assigned'),\n ('M4Z', 'Not assigned', 'Not assigned'),\n ('M5Z', 'Not assigned', 'Not assigned'),\n ('M6Z', 'Not assigned', 'Not assigned'),\n ('M7Z', 'Not assigned', 'Not assigned'),\n ('M8Z', 'Etobicoke', 'Kingsway Park South West'),\n ('M8Z', 'Etobicoke', 'Mimico NW'),\n ('M8Z', 'Etobicoke', 'The Queensway West'),\n ('M8Z', 'Etobicoke', 'Royal York South West'),\n ('M8Z', 'Etobicoke', 'South of Bloor'),\n ('M9Z', 'Not assigned', 'Not assigned')]"
                    }, 
                    "output_type": "execute_result"
                }
            ], 
            "source": "column1 = []\nfor i in range(0,len(records)):\n        if i%3 == 0:\n            column1.append(records[i])\n\ncolumn2 = []\nfor i in range(0,len(records)):\n        if (i-1)%3 == 0:\n            column2.append(records[i])\n\ncolumn3 = []\nfor i in range(0,len(records)):\n        if (i-2)%3 == 0:\n            column3.append(records[i])\n\nrecords_arranged = list(zip(column1, column2, column3))\nrecords_arranged"
        }, 
        {
            "source": "## Create a DataFrame ", 
            "cell_type": "markdown", 
            "metadata": {}
        }, 
        {
            "execution_count": 7, 
            "cell_type": "code", 
            "metadata": {}, 
            "outputs": [
                {
                    "execution_count": 7, 
                    "metadata": {}, 
                    "data": {
                        "text/html": "<div>\n<style scoped>\n    .dataframe tbody tr th:only-of-type {\n        vertical-align: middle;\n    }\n\n    .dataframe tbody tr th {\n        vertical-align: top;\n    }\n\n    .dataframe thead th {\n        text-align: right;\n    }\n</style>\n<table border=\"1\" class=\"dataframe\">\n  <thead>\n    <tr style=\"text-align: right;\">\n      <th></th>\n      <th>PostalCode</th>\n      <th>Borough</th>\n      <th>Neighborhood</th>\n    </tr>\n  </thead>\n  <tbody>\n    <tr>\n      <th>2</th>\n      <td>M3A</td>\n      <td>North York</td>\n      <td>Parkwoods</td>\n    </tr>\n    <tr>\n      <th>3</th>\n      <td>M4A</td>\n      <td>North York</td>\n      <td>Victoria Village</td>\n    </tr>\n    <tr>\n      <th>4</th>\n      <td>M5A</td>\n      <td>Downtown Toronto</td>\n      <td>Harbourfront</td>\n    </tr>\n    <tr>\n      <th>5</th>\n      <td>M5A</td>\n      <td>Downtown Toronto</td>\n      <td>Regent Park</td>\n    </tr>\n    <tr>\n      <th>6</th>\n      <td>M6A</td>\n      <td>North York</td>\n      <td>Lawrence Heights</td>\n    </tr>\n  </tbody>\n</table>\n</div>", 
                        "text/plain": "  PostalCode           Borough      Neighborhood\n2        M3A        North York         Parkwoods\n3        M4A        North York  Victoria Village\n4        M5A  Downtown Toronto      Harbourfront\n5        M5A  Downtown Toronto       Regent Park\n6        M6A        North York  Lawrence Heights"
                    }, 
                    "output_type": "execute_result"
                }
            ], 
            "source": "#create dataframe\ndf = pd.DataFrame.from_records(records_arranged, columns=labels)\n\n#drop rows with Borough=\"Not assigned\"\ndf = df[df[\"Borough\"] != \"Not assigned\"]\n\ndf.head()"
        }, 
        {
            "source": "## Group the DataFrame by PostalCode and thereby, join Neighborhoods with a comma and leave Boroughs as they are", 
            "cell_type": "markdown", 
            "metadata": {}
        }, 
        {
            "execution_count": 8, 
            "cell_type": "code", 
            "metadata": {}, 
            "outputs": [
                {
                    "execution_count": 8, 
                    "metadata": {}, 
                    "data": {
                        "text/html": "<div>\n<style scoped>\n    .dataframe tbody tr th:only-of-type {\n        vertical-align: middle;\n    }\n\n    .dataframe tbody tr th {\n        vertical-align: top;\n    }\n\n    .dataframe thead th {\n        text-align: right;\n    }\n</style>\n<table border=\"1\" class=\"dataframe\">\n  <thead>\n    <tr style=\"text-align: right;\">\n      <th></th>\n      <th>Borough</th>\n      <th>Neighborhood</th>\n    </tr>\n    <tr>\n      <th>PostalCode</th>\n      <th></th>\n      <th></th>\n    </tr>\n  </thead>\n  <tbody>\n    <tr>\n      <th>M1B</th>\n      <td>Scarborough</td>\n      <td>Rouge, Malvern</td>\n    </tr>\n    <tr>\n      <th>M1C</th>\n      <td>Scarborough</td>\n      <td>Highland Creek, Rouge Hill, Port Union</td>\n    </tr>\n    <tr>\n      <th>M1E</th>\n      <td>Scarborough</td>\n      <td>Guildwood, Morningside, West Hill</td>\n    </tr>\n    <tr>\n      <th>M1G</th>\n      <td>Scarborough</td>\n      <td>Woburn</td>\n    </tr>\n  </tbody>\n</table>\n</div>", 
                        "text/plain": "                Borough                            Neighborhood\nPostalCode                                                     \nM1B         Scarborough                          Rouge, Malvern\nM1C         Scarborough  Highland Creek, Rouge Hill, Port Union\nM1E         Scarborough       Guildwood, Morningside, West Hill\nM1G         Scarborough                                  Woburn"
                    }, 
                    "output_type": "execute_result"
                }
            ], 
            "source": "#create custom function to join the Neighbourhood values with comma and space\ncustomjoin = lambda a: \", \".join(a) \n\n#create a custom function to join the Borough values with comma, seperate them by comma and only return the first (since they are equal)\n#I simply wanted to leave the Borough value unchanged. I'm sure there is a more elegant way, but this one works fine.\nonereturn= lambda a: \",\".join(a).rsplit(\",\")[0]\n\n#group dataframe by PostalCode and join entries \ndf_final = df.groupby('PostalCode').agg({'Borough': onereturn, 'Neighborhood': customjoin})\n\n#check if the join works as expected:\ndf_final.head(4)"
        }, 
        {
            "source": "## Find rows with Neighborhood 'Not assigned' and replace it by the Borough entry", 
            "cell_type": "markdown", 
            "metadata": {}
        }, 
        {
            "execution_count": 9, 
            "cell_type": "code", 
            "metadata": {}, 
            "outputs": [
                {
                    "execution_count": 9, 
                    "metadata": {}, 
                    "data": {
                        "text/html": "<div>\n<style scoped>\n    .dataframe tbody tr th:only-of-type {\n        vertical-align: middle;\n    }\n\n    .dataframe tbody tr th {\n        vertical-align: top;\n    }\n\n    .dataframe thead th {\n        text-align: right;\n    }\n</style>\n<table border=\"1\" class=\"dataframe\">\n  <thead>\n    <tr style=\"text-align: right;\">\n      <th></th>\n      <th>Borough</th>\n      <th>Neighborhood</th>\n    </tr>\n    <tr>\n      <th>PostalCode</th>\n      <th></th>\n      <th></th>\n    </tr>\n  </thead>\n  <tbody>\n  </tbody>\n</table>\n</div>", 
                        "text/plain": "Empty DataFrame\nColumns: [Borough, Neighborhood]\nIndex: []"
                    }, 
                    "output_type": "execute_result"
                }
            ], 
            "source": "#check rows:\ndf_final[df_final['Neighborhood']=='Not assigned']\n#only the case for PostalCode M7A. Replace its value by its Borough value:\ndf_final.loc['M7A']['Neighborhood'] = df_final.loc['M7A']['Borough']\n\n#check again:\ndf_final[df_final['Neighborhood']=='Not assigned']\n#no returns -> worked"
        }, 
        {
            "source": "## The columns Neighborhood and Borough are swapped, compared to the given example on Coursera. Therefore, I swap the columns.\n## Finally, the index is reset and PostalCode becomes an ordinary column.", 
            "cell_type": "markdown", 
            "metadata": {}
        }, 
        {
            "execution_count": 10, 
            "cell_type": "code", 
            "metadata": {}, 
            "outputs": [
                {
                    "execution_count": 10, 
                    "metadata": {}, 
                    "data": {
                        "text/html": "<div>\n<style scoped>\n    .dataframe tbody tr th:only-of-type {\n        vertical-align: middle;\n    }\n\n    .dataframe tbody tr th {\n        vertical-align: top;\n    }\n\n    .dataframe thead th {\n        text-align: right;\n    }\n</style>\n<table border=\"1\" class=\"dataframe\">\n  <thead>\n    <tr style=\"text-align: right;\">\n      <th></th>\n      <th>PostalCode</th>\n      <th>Borough</th>\n      <th>Neighborhood</th>\n    </tr>\n  </thead>\n  <tbody>\n    <tr>\n      <th>0</th>\n      <td>M1B</td>\n      <td>Scarborough</td>\n      <td>Rouge, Malvern</td>\n    </tr>\n    <tr>\n      <th>1</th>\n      <td>M1C</td>\n      <td>Scarborough</td>\n      <td>Highland Creek, Rouge Hill, Port Union</td>\n    </tr>\n    <tr>\n      <th>2</th>\n      <td>M1E</td>\n      <td>Scarborough</td>\n      <td>Guildwood, Morningside, West Hill</td>\n    </tr>\n    <tr>\n      <th>3</th>\n      <td>M1G</td>\n      <td>Scarborough</td>\n      <td>Woburn</td>\n    </tr>\n    <tr>\n      <th>4</th>\n      <td>M1H</td>\n      <td>Scarborough</td>\n      <td>Cedarbrae</td>\n    </tr>\n  </tbody>\n</table>\n</div>", 
                        "text/plain": "  PostalCode      Borough                            Neighborhood\n0        M1B  Scarborough                          Rouge, Malvern\n1        M1C  Scarborough  Highland Creek, Rouge Hill, Port Union\n2        M1E  Scarborough       Guildwood, Morningside, West Hill\n3        M1G  Scarborough                                  Woburn\n4        M1H  Scarborough                               Cedarbrae"
                    }, 
                    "output_type": "execute_result"
                }
            ], 
            "source": "df_final=df_final.reindex(columns=['Borough', 'Neighborhood'])\ndf_final = df_final.reset_index()\ndf_final.head()"
        }, 
        {
            "execution_count": 11, 
            "cell_type": "code", 
            "metadata": {}, 
            "outputs": [
                {
                    "execution_count": 11, 
                    "metadata": {}, 
                    "data": {
                        "text/plain": "(103, 3)"
                    }, 
                    "output_type": "execute_result"
                }
            ], 
            "source": "df_final.shape"
        }
    ], 
    "metadata": {
        "kernelspec": {
            "display_name": "Python 3.5", 
            "name": "python3", 
            "language": "python"
        }, 
        "language_info": {
            "mimetype": "text/x-python", 
            "nbconvert_exporter": "python", 
            "version": "3.5.5", 
            "name": "python", 
            "file_extension": ".py", 
            "pygments_lexer": "ipython3", 
            "codemirror_mode": {
                "version": 3, 
                "name": "ipython"
            }
        }
    }, 
    "nbformat": 4
}