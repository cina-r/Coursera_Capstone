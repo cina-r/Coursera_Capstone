{
    "nbformat_minor": 1, 
    "cells": [
        {
            "source": "# Part 1", 
            "cell_type": "markdown", 
            "metadata": {}
        }, 
        {
            "execution_count": 1, 
            "cell_type": "code", 
            "metadata": {}, 
            "outputs": [], 
            "source": "from bs4 import BeautifulSoup\nimport requests\nimport pandas as pd\nfrom io import StringIO"
        }, 
        {
            "source": "## Get the text from the Wiki page and parse it with lxml. Extract the table content", 
            "cell_type": "markdown", 
            "metadata": {}
        }, 
        {
            "execution_count": 2, 
            "cell_type": "code", 
            "metadata": {}, 
            "outputs": [], 
            "source": "source = requests.get('https://en.wikipedia.org/wiki/List_of_postal_codes_of_Canada:_M').text\nsoup = BeautifulSoup(source, 'lxml')\n\ntable_content = soup.find('table').text"
        }, 
        {
            "source": "## Split the table content by newlines in order to obtain a list of words. Then, remove empty elements from the list.", 
            "cell_type": "markdown", 
            "metadata": {}
        }, 
        {
            "execution_count": 3, 
            "cell_type": "code", 
            "metadata": {}, 
            "outputs": [
                {
                    "output_type": "stream", 
                    "name": "stdout", 
                    "text": "['Postcode', 'Borough', 'Neighbourhood', 'M1A', 'Not assigned', 'Not assigned', 'M2A', 'Not assigned', 'Not assigned', 'M3A', 'North York', 'Parkwoods', 'M4A', 'North York', 'Victoria Village', 'M5A', 'Downtown Toronto', 'Harbourfront', 'M5A', 'Downtown Toronto']\n"
                }
            ], 
            "source": "#split\ntable_list = table_content.split('\\n')\n\n#remove empty elements\ntable_list = list(filter(None, table_list))\n\n#print first 20 elements:\nprint(table_list[:20])"
        }, 
        {
            "source": "## Seperate Labels and Records", 
            "cell_type": "markdown", 
            "metadata": {}
        }, 
        {
            "execution_count": 4, 
            "cell_type": "code", 
            "metadata": {}, 
            "outputs": [], 
            "source": "labels = ['PostalCode', 'Borough', 'Neighborhood']\nrecords = table_list[3:]"
        }, 
        {
            "execution_count": 5, 
            "cell_type": "code", 
            "metadata": {}, 
            "outputs": [
                {
                    "execution_count": 5, 
                    "metadata": {}, 
                    "data": {
                        "text/plain": "[('M1A', 'Not assigned', 'Not assigned'),\n ('M2A', 'Not assigned', 'Not assigned'),\n ('M3A', 'North York', 'Parkwoods')]"
                    }, 
                    "output_type": "execute_result"
                }
            ], 
            "source": "column1 = []\nfor i in range(0,len(records)):\n        if i%3 == 0:\n            column1.append(records[i])\n\ncolumn2 = []\nfor i in range(0,len(records)):\n        if (i-1)%3 == 0:\n            column2.append(records[i])\n\ncolumn3 = []\nfor i in range(0,len(records)):\n        if (i-2)%3 == 0:\n            column3.append(records[i])\n\nrecords_arranged = list(zip(column1, column2, column3))\n#show first 3 entries:\nrecords_arranged[:3]"
        }, 
        {
            "source": "## Create a DataFrame ", 
            "cell_type": "markdown", 
            "metadata": {}
        }, 
        {
            "execution_count": 6, 
            "cell_type": "code", 
            "metadata": {}, 
            "outputs": [
                {
                    "execution_count": 6, 
                    "metadata": {}, 
                    "data": {
                        "text/html": "<div>\n<style scoped>\n    .dataframe tbody tr th:only-of-type {\n        vertical-align: middle;\n    }\n\n    .dataframe tbody tr th {\n        vertical-align: top;\n    }\n\n    .dataframe thead th {\n        text-align: right;\n    }\n</style>\n<table border=\"1\" class=\"dataframe\">\n  <thead>\n    <tr style=\"text-align: right;\">\n      <th></th>\n      <th>PostalCode</th>\n      <th>Borough</th>\n      <th>Neighborhood</th>\n    </tr>\n  </thead>\n  <tbody>\n    <tr>\n      <th>2</th>\n      <td>M3A</td>\n      <td>North York</td>\n      <td>Parkwoods</td>\n    </tr>\n    <tr>\n      <th>3</th>\n      <td>M4A</td>\n      <td>North York</td>\n      <td>Victoria Village</td>\n    </tr>\n    <tr>\n      <th>4</th>\n      <td>M5A</td>\n      <td>Downtown Toronto</td>\n      <td>Harbourfront</td>\n    </tr>\n    <tr>\n      <th>5</th>\n      <td>M5A</td>\n      <td>Downtown Toronto</td>\n      <td>Regent Park</td>\n    </tr>\n    <tr>\n      <th>6</th>\n      <td>M6A</td>\n      <td>North York</td>\n      <td>Lawrence Heights</td>\n    </tr>\n  </tbody>\n</table>\n</div>", 
                        "text/plain": "  PostalCode           Borough      Neighborhood\n2        M3A        North York         Parkwoods\n3        M4A        North York  Victoria Village\n4        M5A  Downtown Toronto      Harbourfront\n5        M5A  Downtown Toronto       Regent Park\n6        M6A        North York  Lawrence Heights"
                    }, 
                    "output_type": "execute_result"
                }
            ], 
            "source": "#create dataframe\ndf = pd.DataFrame.from_records(records_arranged, columns=labels)\n\n#drop rows with Borough=\"Not assigned\"\ndf = df[df[\"Borough\"] != \"Not assigned\"]\n\ndf.head()"
        }, 
        {
            "source": "## Group the DataFrame by PostalCode and thereby, join Neighborhoods with a comma and leave Boroughs as they are", 
            "cell_type": "markdown", 
            "metadata": {}
        }, 
        {
            "execution_count": 7, 
            "cell_type": "code", 
            "metadata": {}, 
            "outputs": [
                {
                    "execution_count": 7, 
                    "metadata": {}, 
                    "data": {
                        "text/html": "<div>\n<style scoped>\n    .dataframe tbody tr th:only-of-type {\n        vertical-align: middle;\n    }\n\n    .dataframe tbody tr th {\n        vertical-align: top;\n    }\n\n    .dataframe thead th {\n        text-align: right;\n    }\n</style>\n<table border=\"1\" class=\"dataframe\">\n  <thead>\n    <tr style=\"text-align: right;\">\n      <th></th>\n      <th>Borough</th>\n      <th>Neighborhood</th>\n    </tr>\n    <tr>\n      <th>PostalCode</th>\n      <th></th>\n      <th></th>\n    </tr>\n  </thead>\n  <tbody>\n    <tr>\n      <th>M1B</th>\n      <td>Scarborough</td>\n      <td>Rouge, Malvern</td>\n    </tr>\n    <tr>\n      <th>M1C</th>\n      <td>Scarborough</td>\n      <td>Highland Creek, Rouge Hill, Port Union</td>\n    </tr>\n    <tr>\n      <th>M1E</th>\n      <td>Scarborough</td>\n      <td>Guildwood, Morningside, West Hill</td>\n    </tr>\n    <tr>\n      <th>M1G</th>\n      <td>Scarborough</td>\n      <td>Woburn</td>\n    </tr>\n  </tbody>\n</table>\n</div>", 
                        "text/plain": "                Borough                            Neighborhood\nPostalCode                                                     \nM1B         Scarborough                          Rouge, Malvern\nM1C         Scarborough  Highland Creek, Rouge Hill, Port Union\nM1E         Scarborough       Guildwood, Morningside, West Hill\nM1G         Scarborough                                  Woburn"
                    }, 
                    "output_type": "execute_result"
                }
            ], 
            "source": "#create custom function to join the Neighbourhood values with comma and space\ncustomjoin = lambda a: \", \".join(a) \n\n#create a custom function to join the Borough values with comma, seperate them by comma and only return the first (since they are equal)\n#I simply wanted to leave the Borough value unchanged. I'm sure there is a more elegant way, but this one works fine.\nonereturn= lambda a: \",\".join(a).rsplit(\",\")[0]\n\n#group dataframe by PostalCode and join entries \ndf_final = df.groupby('PostalCode').agg({'Borough': onereturn, 'Neighborhood': customjoin})\n\n#check if the join works as expected:\ndf_final.head(4)"
        }, 
        {
            "source": "## Find rows with Neighborhood 'Not assigned' and replace it by the Borough entry", 
            "cell_type": "markdown", 
            "metadata": {}
        }, 
        {
            "execution_count": 8, 
            "cell_type": "code", 
            "metadata": {}, 
            "outputs": [
                {
                    "execution_count": 8, 
                    "metadata": {}, 
                    "data": {
                        "text/html": "<div>\n<style scoped>\n    .dataframe tbody tr th:only-of-type {\n        vertical-align: middle;\n    }\n\n    .dataframe tbody tr th {\n        vertical-align: top;\n    }\n\n    .dataframe thead th {\n        text-align: right;\n    }\n</style>\n<table border=\"1\" class=\"dataframe\">\n  <thead>\n    <tr style=\"text-align: right;\">\n      <th></th>\n      <th>Borough</th>\n      <th>Neighborhood</th>\n    </tr>\n    <tr>\n      <th>PostalCode</th>\n      <th></th>\n      <th></th>\n    </tr>\n  </thead>\n  <tbody>\n  </tbody>\n</table>\n</div>", 
                        "text/plain": "Empty DataFrame\nColumns: [Borough, Neighborhood]\nIndex: []"
                    }, 
                    "output_type": "execute_result"
                }
            ], 
            "source": "#check rows:\ndf_final[df_final['Neighborhood']=='Not assigned']\n#only the case for PostalCode M7A. Replace its value by its Borough value:\ndf_final.loc['M7A']['Neighborhood'] = df_final.loc['M7A']['Borough']\n\n#check again:\ndf_final[df_final['Neighborhood']=='Not assigned']\n#no returns -> worked"
        }, 
        {
            "source": "## The columns Neighborhood and Borough are swapped, compared to the given example on Coursera. Therefore, I swap the columns.\n## Finally, the index is reset and PostalCode becomes an ordinary column.", 
            "cell_type": "markdown", 
            "metadata": {}
        }, 
        {
            "execution_count": 9, 
            "cell_type": "code", 
            "metadata": {}, 
            "outputs": [
                {
                    "execution_count": 9, 
                    "metadata": {}, 
                    "data": {
                        "text/html": "<div>\n<style scoped>\n    .dataframe tbody tr th:only-of-type {\n        vertical-align: middle;\n    }\n\n    .dataframe tbody tr th {\n        vertical-align: top;\n    }\n\n    .dataframe thead th {\n        text-align: right;\n    }\n</style>\n<table border=\"1\" class=\"dataframe\">\n  <thead>\n    <tr style=\"text-align: right;\">\n      <th></th>\n      <th>PostalCode</th>\n      <th>Borough</th>\n      <th>Neighborhood</th>\n    </tr>\n  </thead>\n  <tbody>\n    <tr>\n      <th>0</th>\n      <td>M1B</td>\n      <td>Scarborough</td>\n      <td>Rouge, Malvern</td>\n    </tr>\n    <tr>\n      <th>1</th>\n      <td>M1C</td>\n      <td>Scarborough</td>\n      <td>Highland Creek, Rouge Hill, Port Union</td>\n    </tr>\n    <tr>\n      <th>2</th>\n      <td>M1E</td>\n      <td>Scarborough</td>\n      <td>Guildwood, Morningside, West Hill</td>\n    </tr>\n    <tr>\n      <th>3</th>\n      <td>M1G</td>\n      <td>Scarborough</td>\n      <td>Woburn</td>\n    </tr>\n    <tr>\n      <th>4</th>\n      <td>M1H</td>\n      <td>Scarborough</td>\n      <td>Cedarbrae</td>\n    </tr>\n  </tbody>\n</table>\n</div>", 
                        "text/plain": "  PostalCode      Borough                            Neighborhood\n0        M1B  Scarborough                          Rouge, Malvern\n1        M1C  Scarborough  Highland Creek, Rouge Hill, Port Union\n2        M1E  Scarborough       Guildwood, Morningside, West Hill\n3        M1G  Scarborough                                  Woburn\n4        M1H  Scarborough                               Cedarbrae"
                    }, 
                    "output_type": "execute_result"
                }
            ], 
            "source": "df_final=df_final.reindex(columns=['Borough', 'Neighborhood'])\ndf_final = df_final.reset_index()\ndf_final.head()"
        }, 
        {
            "execution_count": 10, 
            "cell_type": "code", 
            "metadata": {}, 
            "outputs": [
                {
                    "execution_count": 10, 
                    "metadata": {}, 
                    "data": {
                        "text/plain": "(103, 3)"
                    }, 
                    "output_type": "execute_result"
                }
            ], 
            "source": "df_final.shape"
        }, 
        {
            "source": "# Part 2", 
            "cell_type": "markdown", 
            "metadata": {}
        }, 
        {
            "source": "## Retrieve the geospatial data", 
            "cell_type": "markdown", 
            "metadata": {}
        }, 
        {
            "execution_count": 11, 
            "cell_type": "code", 
            "metadata": {}, 
            "outputs": [
                {
                    "output_type": "stream", 
                    "name": "stdout", 
                    "text": "--2018-12-17 18:22:04--  https://cocl.us/Geospatial_data\nResolving cocl.us (cocl.us)... 159.8.72.228\nConnecting to cocl.us (cocl.us)|159.8.72.228|:443... connected.\nHTTP request sent, awaiting response... 301 Moved Permanently\nLocation: https://ibm.box.com/shared/static/9afzr83pps4pwf2smjjcf1y5mvgb18rr.csv [following]\n--2018-12-17 18:22:05--  https://ibm.box.com/shared/static/9afzr83pps4pwf2smjjcf1y5mvgb18rr.csv\nResolving ibm.box.com (ibm.box.com)... 107.152.26.197\nConnecting to ibm.box.com (ibm.box.com)|107.152.26.197|:443... connected.\nHTTP request sent, awaiting response... 301 Moved Permanently\nLocation: https://ibm.ent.box.com/shared/static/9afzr83pps4pwf2smjjcf1y5mvgb18rr.csv [following]\n--2018-12-17 18:22:05--  https://ibm.ent.box.com/shared/static/9afzr83pps4pwf2smjjcf1y5mvgb18rr.csv\nResolving ibm.ent.box.com (ibm.ent.box.com)... 107.152.26.211\nConnecting to ibm.ent.box.com (ibm.ent.box.com)|107.152.26.211|:443... connected.\nHTTP request sent, awaiting response... 302 Found\nLocation: https://public.boxcloud.com/d/1/b1!_QVpXeUqJstY2cOiAN74sjPi4aA2DV2zFDQZ1YEY-6i5fw68qqwujX2YjC6ME2r4D5rrD6XJlSW9VWA_yAZJOO4jLF6khreGB0oBe1KYZ6WldTJAexJ6zl3PAYCxiDmlD81dp9qnpH0IzWaGenwyFwelqMrrxu6m4hxJPKb5eOTHE6ZIvt5YT8_wC_8d9r4xvj8YA9yeRVgJOUNZ355_i7NUeWefUvnUJ6dwti53c4WqCy9Yqu1VBWYjlr0Vsrg-bSlGADFEc21D0SF_Wu-9hucBr5JBfxMG52n3TMmWmlFcQGcH3p50xe8QIh8djkz-FxtKEMFvGT3udXfgD4qIm1EWsQnqv8ku5WU984DWLN-QNovFdQ0J3pME8tJktHeodRhb9ogZZLSauvJbhd9iPzYHj4tYO1aUx1z2UNZQYym-hB2X-4BwawV5kPLmieGfk-u6Ibgu_eW9GeotpBBngYzStOtirdWtfEskih_5aMAQCSXlYqd1WDxuQzOL2SIiph0ucoT8BHjNllsgB7XWVT_ufMYMJOkimWSBfxXv-mIs15SBpyc9mmpPUilDX8Cxq2lgEDaNbDcsUkN5l8OFoLH3NZ0TR-EF4vcFkmTe3PDB8ifWYDurYAPI3TKHdZ8Y_iWMt272wL98J5pCqvWB3RWKebP1kvoL1MIP_Tyn-uJ0HogbKdicsGjexHmVcUjJ0dkgtgIms-8TfO3M0GkZTT9tkbgF4OJxABBEKpQoS-7M-uQ1L19kJPCEi5rpnQue8fwEDPKfI3gaA7jAX2nnf_W7sqR8yUIDnN3XMAcmSrftD_8EPhiBbTuIe021g__bNKdO8-cpxioPJuYGQXeNS-R9pTk-PNd-ne8RaxzgLYmgbrVXgqc8NGY3YDk6W1Hb4xKu9AwJNcct3j-8qD0LRrvKQL0sl7LES33yu7A898Mg9oaskcu9qgXCdewXBCPHKoue52RsfzRpxZAmiCuL0S-szqmAc1VqqYld9Uq7TyADgLe-qXI424oY_fs5gm8-9UnIwXm2g4MU2cb9d-f0KEIygYW5w-_RUG5mkFS6zuJX3YBku6DIa8CZdjtAS7CMdjleXQmjyorbL0GE8oxRmAtW8PaRrYRDhxkiYSsTFL4Zfe7mwjz4Gq3Sf0xqGDr4NpnryUPOyuTqn9Y_1T5FEmBrd9Elz1CYq1wmLDrKHJkWVmWNU-6syy8xjvkk58wke3MiSs-T4yluO4GheS7sPB_FkOY_ANj_rg79EflKC46fF2SZ1PPV9ucT-wfR4EhE1vuYPZdP06mYRgn7fncX-6v8bP5nxULtxcXPdNv5MW-EqBQfZNctegYLcWlZ2CRBX2tat8mkRyiB4j35FQ_4G9gkTqSmue1tl1dapCeAA1S43tFa/download [following]\n--2018-12-17 18:22:06--  https://public.boxcloud.com/d/1/b1!_QVpXeUqJstY2cOiAN74sjPi4aA2DV2zFDQZ1YEY-6i5fw68qqwujX2YjC6ME2r4D5rrD6XJlSW9VWA_yAZJOO4jLF6khreGB0oBe1KYZ6WldTJAexJ6zl3PAYCxiDmlD81dp9qnpH0IzWaGenwyFwelqMrrxu6m4hxJPKb5eOTHE6ZIvt5YT8_wC_8d9r4xvj8YA9yeRVgJOUNZ355_i7NUeWefUvnUJ6dwti53c4WqCy9Yqu1VBWYjlr0Vsrg-bSlGADFEc21D0SF_Wu-9hucBr5JBfxMG52n3TMmWmlFcQGcH3p50xe8QIh8djkz-FxtKEMFvGT3udXfgD4qIm1EWsQnqv8ku5WU984DWLN-QNovFdQ0J3pME8tJktHeodRhb9ogZZLSauvJbhd9iPzYHj4tYO1aUx1z2UNZQYym-hB2X-4BwawV5kPLmieGfk-u6Ibgu_eW9GeotpBBngYzStOtirdWtfEskih_5aMAQCSXlYqd1WDxuQzOL2SIiph0ucoT8BHjNllsgB7XWVT_ufMYMJOkimWSBfxXv-mIs15SBpyc9mmpPUilDX8Cxq2lgEDaNbDcsUkN5l8OFoLH3NZ0TR-EF4vcFkmTe3PDB8ifWYDurYAPI3TKHdZ8Y_iWMt272wL98J5pCqvWB3RWKebP1kvoL1MIP_Tyn-uJ0HogbKdicsGjexHmVcUjJ0dkgtgIms-8TfO3M0GkZTT9tkbgF4OJxABBEKpQoS-7M-uQ1L19kJPCEi5rpnQue8fwEDPKfI3gaA7jAX2nnf_W7sqR8yUIDnN3XMAcmSrftD_8EPhiBbTuIe021g__bNKdO8-cpxioPJuYGQXeNS-R9pTk-PNd-ne8RaxzgLYmgbrVXgqc8NGY3YDk6W1Hb4xKu9AwJNcct3j-8qD0LRrvKQL0sl7LES33yu7A898Mg9oaskcu9qgXCdewXBCPHKoue52RsfzRpxZAmiCuL0S-szqmAc1VqqYld9Uq7TyADgLe-qXI424oY_fs5gm8-9UnIwXm2g4MU2cb9d-f0KEIygYW5w-_RUG5mkFS6zuJX3YBku6DIa8CZdjtAS7CMdjleXQmjyorbL0GE8oxRmAtW8PaRrYRDhxkiYSsTFL4Zfe7mwjz4Gq3Sf0xqGDr4NpnryUPOyuTqn9Y_1T5FEmBrd9Elz1CYq1wmLDrKHJkWVmWNU-6syy8xjvkk58wke3MiSs-T4yluO4GheS7sPB_FkOY_ANj_rg79EflKC46fF2SZ1PPV9ucT-wfR4EhE1vuYPZdP06mYRgn7fncX-6v8bP5nxULtxcXPdNv5MW-EqBQfZNctegYLcWlZ2CRBX2tat8mkRyiB4j35FQ_4G9gkTqSmue1tl1dapCeAA1S43tFa/download\nResolving public.boxcloud.com (public.boxcloud.com)... 107.152.27.200\nConnecting to public.boxcloud.com (public.boxcloud.com)|107.152.27.200|:443... connected.\nHTTP request sent, awaiting response... 200 OK\nLength: 2891 (2.8K) [text/csv]\nSaving to: \u2018geospatial.csv\u2019\n\n100%[======================================>] 2,891       --.-K/s   in 0s      \n\n2018-12-17 18:22:06 (176 MB/s) - \u2018geospatial.csv\u2019 saved [2891/2891]\n\n"
                }
            ], 
            "source": "!wget -O geospatial.csv https://cocl.us/Geospatial_data"
        }, 
        {
            "execution_count": 12, 
            "cell_type": "code", 
            "metadata": {}, 
            "outputs": [
                {
                    "execution_count": 12, 
                    "metadata": {}, 
                    "data": {
                        "text/html": "<div>\n<style scoped>\n    .dataframe tbody tr th:only-of-type {\n        vertical-align: middle;\n    }\n\n    .dataframe tbody tr th {\n        vertical-align: top;\n    }\n\n    .dataframe thead th {\n        text-align: right;\n    }\n</style>\n<table border=\"1\" class=\"dataframe\">\n  <thead>\n    <tr style=\"text-align: right;\">\n      <th></th>\n      <th>Postal Code</th>\n      <th>Latitude</th>\n      <th>Longitude</th>\n    </tr>\n  </thead>\n  <tbody>\n    <tr>\n      <th>0</th>\n      <td>M1B</td>\n      <td>43.806686</td>\n      <td>-79.194353</td>\n    </tr>\n    <tr>\n      <th>1</th>\n      <td>M1C</td>\n      <td>43.784535</td>\n      <td>-79.160497</td>\n    </tr>\n    <tr>\n      <th>2</th>\n      <td>M1E</td>\n      <td>43.763573</td>\n      <td>-79.188711</td>\n    </tr>\n    <tr>\n      <th>3</th>\n      <td>M1G</td>\n      <td>43.770992</td>\n      <td>-79.216917</td>\n    </tr>\n    <tr>\n      <th>4</th>\n      <td>M1H</td>\n      <td>43.773136</td>\n      <td>-79.239476</td>\n    </tr>\n  </tbody>\n</table>\n</div>", 
                        "text/plain": "  Postal Code   Latitude  Longitude\n0         M1B  43.806686 -79.194353\n1         M1C  43.784535 -79.160497\n2         M1E  43.763573 -79.188711\n3         M1G  43.770992 -79.216917\n4         M1H  43.773136 -79.239476"
                    }, 
                    "output_type": "execute_result"
                }
            ], 
            "source": "geodf = pd.read_csv('geospatial.csv')\ngeodf.head()"
        }, 
        {
            "source": "## Take a look at the above DataFrame again in order to check how we can combine them:", 
            "cell_type": "markdown", 
            "metadata": {}
        }, 
        {
            "execution_count": 13, 
            "cell_type": "code", 
            "metadata": {}, 
            "outputs": [
                {
                    "execution_count": 13, 
                    "metadata": {}, 
                    "data": {
                        "text/html": "<div>\n<style scoped>\n    .dataframe tbody tr th:only-of-type {\n        vertical-align: middle;\n    }\n\n    .dataframe tbody tr th {\n        vertical-align: top;\n    }\n\n    .dataframe thead th {\n        text-align: right;\n    }\n</style>\n<table border=\"1\" class=\"dataframe\">\n  <thead>\n    <tr style=\"text-align: right;\">\n      <th></th>\n      <th>PostalCode</th>\n      <th>Borough</th>\n      <th>Neighborhood</th>\n    </tr>\n  </thead>\n  <tbody>\n    <tr>\n      <th>0</th>\n      <td>M1B</td>\n      <td>Scarborough</td>\n      <td>Rouge, Malvern</td>\n    </tr>\n    <tr>\n      <th>1</th>\n      <td>M1C</td>\n      <td>Scarborough</td>\n      <td>Highland Creek, Rouge Hill, Port Union</td>\n    </tr>\n    <tr>\n      <th>2</th>\n      <td>M1E</td>\n      <td>Scarborough</td>\n      <td>Guildwood, Morningside, West Hill</td>\n    </tr>\n    <tr>\n      <th>3</th>\n      <td>M1G</td>\n      <td>Scarborough</td>\n      <td>Woburn</td>\n    </tr>\n    <tr>\n      <th>4</th>\n      <td>M1H</td>\n      <td>Scarborough</td>\n      <td>Cedarbrae</td>\n    </tr>\n  </tbody>\n</table>\n</div>", 
                        "text/plain": "  PostalCode      Borough                            Neighborhood\n0        M1B  Scarborough                          Rouge, Malvern\n1        M1C  Scarborough  Highland Creek, Rouge Hill, Port Union\n2        M1E  Scarborough       Guildwood, Morningside, West Hill\n3        M1G  Scarborough                                  Woburn\n4        M1H  Scarborough                               Cedarbrae"
                    }, 
                    "output_type": "execute_result"
                }
            ], 
            "source": "df_final.head()"
        }, 
        {
            "source": "## They can be joined on the PostalCode column. Therefore, we have to rename the column first to remove the blank", 
            "cell_type": "markdown", 
            "metadata": {}
        }, 
        {
            "execution_count": 28, 
            "cell_type": "code", 
            "metadata": {}, 
            "outputs": [], 
            "source": "geodf.rename(index=str, columns={\"Postal Code\": \"PostalCode\"}, inplace=True)"
        }, 
        {
            "execution_count": 29, 
            "cell_type": "code", 
            "metadata": {}, 
            "outputs": [
                {
                    "execution_count": 29, 
                    "metadata": {}, 
                    "data": {
                        "text/html": "<div>\n<style scoped>\n    .dataframe tbody tr th:only-of-type {\n        vertical-align: middle;\n    }\n\n    .dataframe tbody tr th {\n        vertical-align: top;\n    }\n\n    .dataframe thead th {\n        text-align: right;\n    }\n</style>\n<table border=\"1\" class=\"dataframe\">\n  <thead>\n    <tr style=\"text-align: right;\">\n      <th></th>\n      <th>PostalCode</th>\n      <th>Latitude</th>\n      <th>Longitude</th>\n    </tr>\n  </thead>\n  <tbody>\n    <tr>\n      <th>0</th>\n      <td>M1B</td>\n      <td>43.806686</td>\n      <td>-79.194353</td>\n    </tr>\n    <tr>\n      <th>1</th>\n      <td>M1C</td>\n      <td>43.784535</td>\n      <td>-79.160497</td>\n    </tr>\n    <tr>\n      <th>2</th>\n      <td>M1E</td>\n      <td>43.763573</td>\n      <td>-79.188711</td>\n    </tr>\n    <tr>\n      <th>3</th>\n      <td>M1G</td>\n      <td>43.770992</td>\n      <td>-79.216917</td>\n    </tr>\n    <tr>\n      <th>4</th>\n      <td>M1H</td>\n      <td>43.773136</td>\n      <td>-79.239476</td>\n    </tr>\n  </tbody>\n</table>\n</div>", 
                        "text/plain": "  PostalCode   Latitude  Longitude\n0        M1B  43.806686 -79.194353\n1        M1C  43.784535 -79.160497\n2        M1E  43.763573 -79.188711\n3        M1G  43.770992 -79.216917\n4        M1H  43.773136 -79.239476"
                    }, 
                    "output_type": "execute_result"
                }
            ], 
            "source": "geodf.head()"
        }, 
        {
            "execution_count": 31, 
            "cell_type": "code", 
            "metadata": {}, 
            "outputs": [], 
            "source": "df = df_final.join(geodf.set_index('PostalCode'), on='PostalCode')"
        }, 
        {
            "execution_count": 32, 
            "cell_type": "code", 
            "metadata": {}, 
            "outputs": [
                {
                    "execution_count": 32, 
                    "metadata": {}, 
                    "data": {
                        "text/html": "<div>\n<style scoped>\n    .dataframe tbody tr th:only-of-type {\n        vertical-align: middle;\n    }\n\n    .dataframe tbody tr th {\n        vertical-align: top;\n    }\n\n    .dataframe thead th {\n        text-align: right;\n    }\n</style>\n<table border=\"1\" class=\"dataframe\">\n  <thead>\n    <tr style=\"text-align: right;\">\n      <th></th>\n      <th>PostalCode</th>\n      <th>Borough</th>\n      <th>Neighborhood</th>\n      <th>Latitude</th>\n      <th>Longitude</th>\n    </tr>\n  </thead>\n  <tbody>\n    <tr>\n      <th>0</th>\n      <td>M1B</td>\n      <td>Scarborough</td>\n      <td>Rouge, Malvern</td>\n      <td>43.806686</td>\n      <td>-79.194353</td>\n    </tr>\n    <tr>\n      <th>1</th>\n      <td>M1C</td>\n      <td>Scarborough</td>\n      <td>Highland Creek, Rouge Hill, Port Union</td>\n      <td>43.784535</td>\n      <td>-79.160497</td>\n    </tr>\n    <tr>\n      <th>2</th>\n      <td>M1E</td>\n      <td>Scarborough</td>\n      <td>Guildwood, Morningside, West Hill</td>\n      <td>43.763573</td>\n      <td>-79.188711</td>\n    </tr>\n    <tr>\n      <th>3</th>\n      <td>M1G</td>\n      <td>Scarborough</td>\n      <td>Woburn</td>\n      <td>43.770992</td>\n      <td>-79.216917</td>\n    </tr>\n    <tr>\n      <th>4</th>\n      <td>M1H</td>\n      <td>Scarborough</td>\n      <td>Cedarbrae</td>\n      <td>43.773136</td>\n      <td>-79.239476</td>\n    </tr>\n  </tbody>\n</table>\n</div>", 
                        "text/plain": "  PostalCode      Borough                            Neighborhood   Latitude  \\\n0        M1B  Scarborough                          Rouge, Malvern  43.806686   \n1        M1C  Scarborough  Highland Creek, Rouge Hill, Port Union  43.784535   \n2        M1E  Scarborough       Guildwood, Morningside, West Hill  43.763573   \n3        M1G  Scarborough                                  Woburn  43.770992   \n4        M1H  Scarborough                               Cedarbrae  43.773136   \n\n   Longitude  \n0 -79.194353  \n1 -79.160497  \n2 -79.188711  \n3 -79.216917  \n4 -79.239476  "
                    }, 
                    "output_type": "execute_result"
                }
            ], 
            "source": "df.head()"
        }, 
        {
            "execution_count": null, 
            "cell_type": "code", 
            "metadata": {}, 
            "outputs": [], 
            "source": ""
        }
    ], 
    "metadata": {
        "kernelspec": {
            "display_name": "Python 3.5", 
            "name": "python3", 
            "language": "python"
        }, 
        "language_info": {
            "mimetype": "text/x-python", 
            "nbconvert_exporter": "python", 
            "version": "3.5.5", 
            "name": "python", 
            "file_extension": ".py", 
            "pygments_lexer": "ipython3", 
            "codemirror_mode": {
                "version": 3, 
                "name": "ipython"
            }
        }
    }, 
    "nbformat": 4
}