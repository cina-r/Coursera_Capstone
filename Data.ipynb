{
 "cells": [
  {
   "cell_type": "markdown",
   "metadata": {},
   "source": [
    "# Data"
   ]
  },
  {
   "cell_type": "markdown",
   "metadata": {},
   "source": [
    "For this project, the json-file *nyu_2451_34572-geojson.json* is used which can be downloaded via https://ibm.box.com/shared/static/fbpwbovar7lf8p5sgddm06cgipa2rxpe.json . It comprises all boroughs and neighborhoods in New York togehter with their geometric coordinates. The relevant information are stored in a dataframe and all neighborhoods that are not located in Bronx or Manhattan are removed. <br>\n",
    "The dataframe looks as follows: \n",
    "![](https://i.imgur.com/TwGA7ey.png)\n",
    "<br>\n",
    "Additionally, Foursquare location data is used to obtain information about the venues in the vicinity of each neighborhood. An request URL looks for example like this:\n",
    "https://api.foursquare.com/v2/venues/explore?&client_id=xxx&client_secret=xxx&v=20180605&ll=40.894705,-73.847201&radius=500&limit=100\n",
    "and provides information like this:\n",
    "![](https://i.imgur.com/l0dekNx.png)\n",
    "We will be interested in the information that is stored under 'categories' 'name', in this case *Dessert Shop*.\n",
    "<br>\n",
    "<br>\n",
    "A function is defined that retrieves the top 100 venues within a radius of 500m for the location of each neighborhood. The data is stored in a dataframe that looks like this:\n",
    "![](https://i.imgur.com/i8xqxCt.png)\n",
    "<br>\n",
    "The dataframe is then manipulated in a way that for each neighborhood, the frequency of occurence of each venue category is provided:\n",
    "![](https://i.imgur.com/Ds4W0JU.png)\n",
    "<br>\n",
    "Based on this, a dataframe is created where each neighborhood is listed among with its 10 most common venues within 500m:\n",
    "![](https://i.imgur.com/EMT5dnK.png)"
   ]
  },
  {
   "cell_type": "code",
   "execution_count": null,
   "metadata": {},
   "outputs": [],
   "source": []
  }
 ],
 "metadata": {
  "kernelspec": {
   "display_name": "Python [default]",
   "language": "python",
   "name": "python3"
  },
  "language_info": {
   "codemirror_mode": {
    "name": "ipython",
    "version": 3
   },
   "file_extension": ".py",
   "mimetype": "text/x-python",
   "name": "python",
   "nbconvert_exporter": "python",
   "pygments_lexer": "ipython3",
   "version": "3.6.5"
  }
 },
 "nbformat": 4,
 "nbformat_minor": 2
}
