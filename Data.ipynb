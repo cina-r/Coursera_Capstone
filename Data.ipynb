{
 "cells": [
  {
   "cell_type": "markdown",
   "metadata": {},
   "source": [
    "# Introduction/Business Problem"
   ]
  },
  {
   "cell_type": "markdown",
   "metadata": {},
   "source": [
    "Imagine there is a **travel provider**, who has special offer in his portfolio: You can book a trip to New York and attend a home game of the New York Yankees. So, the customers can enjoy a Yankee match and in the rest of the time (usually a few days) they are free to explore New York City. <br>\n",
    "The travel provider has access to various lodgings in different neighborhoods. It is important that the Yankees stadium is easy to reach from the lodging with regard to the high traffic volume before Yankees matches. From his experience, he knows that the boroughs Manhattan and Bronx are optimal in this particular case. <br>\n",
    "Now, the provider doesn't want to just randomly pick neighborhoods in Manhattan or Bronx in order to prevent customer dissatisfaction. At the same time he doesn't want to present customers a long list of neighborhoods, making them choose without any information about the neighborhoods. <br>\n",
    "The provider has an idea: He hires a data scientist and gives him the task to cluster the neighborhoods in Manhattan and Bronx with regard to similar venues in a specific radius of each neighborhood. In this way, he can **propose a specific set of neighborhoods to his customers based on their personal preferences**. As soon as the customer chooses a cluster, the provider can check which lodgings are available in the neighborhoods of that cluster. "
   ]
  },
  {
   "cell_type": "markdown",
   "metadata": {},
   "source": [
    "# Data"
   ]
  },
  {
   "cell_type": "markdown",
   "metadata": {},
   "source": [
    "For this project, I use the json-file *nyu_2451_34572-geojson.json* which can be downloaded via https://ibm.box.com/shared/static/fbpwbovar7lf8p5sgddm06cgipa2rxpe.json . It comprises all boroughs and neighborhoods in New York togehter with their geometric coordinates. I store the relevant information in a dataframe and remove all neighborhoods that are not located in Bronx or Manhattan. <br>\n",
    "The dataframe looks as follows: ![](df1.png)\n",
    "<br>\n",
    "Additionally, I use Foursquare location data to obtain information about the venues in the vicinity of each neighborhood. I call a function that retrieves the top 100 venues within a radius of 500m for the location of each neighborhood. The dataframe then looks like this: ![](df2.png)\n",
    "<br>\n",
    "The dataframe is then manipulated in a way that for each neighborhood, the the frequency of occurence of each venue category is provided: ![](df3.png)\n",
    "<br>\n",
    "Based on this, a datafame is created where each neighborhood is listed among with its 10 most common venues within 500m:\n",
    "![](df4.png)"
   ]
  },
  {
   "cell_type": "code",
   "execution_count": null,
   "metadata": {},
   "outputs": [],
   "source": []
  }
 ],
 "metadata": {
  "kernelspec": {
   "display_name": "Python [default]",
   "language": "python",
   "name": "python3"
  },
  "language_info": {
   "codemirror_mode": {
    "name": "ipython",
    "version": 3
   },
   "file_extension": ".py",
   "mimetype": "text/x-python",
   "name": "python",
   "nbconvert_exporter": "python",
   "pygments_lexer": "ipython3",
   "version": "3.6.5"
  }
 },
 "nbformat": 4,
 "nbformat_minor": 2
}
